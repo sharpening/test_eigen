{
 "cells": [
  {
   "cell_type": "code",
   "execution_count": 17,
   "metadata": {},
   "outputs": [
    {
     "name": "stdout",
     "output_type": "stream",
     "text": [
      "Extracting data1\\train-images-idx3-ubyte.gz\n",
      "Extracting data1\\train-labels-idx1-ubyte.gz\n",
      "Extracting data1\\t10k-images-idx3-ubyte.gz\n",
      "Extracting data1\\t10k-labels-idx1-ubyte.gz\n"
     ]
    }
   ],
   "source": [
    "from tensorflow.examples.tutorials.mnist import input_data\n",
    "import tensorflow as tf\n",
    "import numpy as np\n",
    "import matplotlib.pyplot as plt \n",
    "data = input_data.read_data_sets('data1',one_hot=True)"
   ]
  },
  {
   "cell_type": "code",
   "execution_count": 18,
   "metadata": {
    "scrolled": true
   },
   "outputs": [
    {
     "name": "stdout",
     "output_type": "stream",
     "text": [
      "Fashion MNIST:\n",
      "Training set (images) shape: (55000, 784)\n",
      "Training set (labels) shape: (55000, 10)\n",
      "Test set (images) shape: (10000, 784)\n",
      "Test set (labels) shape: (10000, 10)\n"
     ]
    }
   ],
   "source": [
    "print(\"Fashion MNIST:\")\n",
    "print(\"Training set (images) shape: {shape}\".format(shape=data.train.images.shape))\n",
    "print(\"Training set (labels) shape: {shape}\".format(shape=data.train.labels.shape))\n",
    "print(\"Test set (images) shape: {shape}\".format(shape=data.test.images.shape))\n",
    "print(\"Test set (labels) shape: {shape}\".format(shape=data.test.labels.shape))"
   ]
  },
  {
   "cell_type": "code",
   "execution_count": 19,
   "metadata": {},
   "outputs": [],
   "source": [
    "label_dict = {\n",
    "    0: 'T-shirt/top',\n",
    "    1: 'Trouser',\n",
    "    2: 'Pullover',\n",
    "    3: 'Dress',\n",
    "    4: 'Coat',\n",
    "    5: 'Sandal',\n",
    "    6: 'Shirt',\n",
    "    7: 'Sneaker',\n",
    "    8: 'Bag',\n",
    "    9: 'Ankle boot'\n",
    "}"
   ]
  },
  {
   "cell_type": "code",
   "execution_count": 20,
   "metadata": {},
   "outputs": [
    {
     "name": "stdout",
     "output_type": "stream",
     "text": [
      "y = 3 (Dress)\n"
     ]
    },
    {
     "data": {
      "image/png": "[encoded data removed]",
      "text/plain": [
       "<matplotlib.figure.Figure at 0x1494ee48>"
      ]
     },
     "metadata": {},
     "output_type": "display_data"
    },
    {
     "name": "stdout",
     "output_type": "stream",
     "text": [
      "y = 7 (Sneaker)\n"
     ]
    },
    {
     "data": {
      "image/png": "[encoded data removed]",
      "text/plain": [
       "<matplotlib.figure.Figure at 0x1635fcc0>"
      ]
     },
     "metadata": {},
     "output_type": "display_data"
    }
   ],
   "source": [
    "\n",
    "sample_1 = data.train.images[47].reshape(28,28)\n",
    "sample_label_1 = np.where(data.train.labels[47] == 1)[0][0]\n",
    "\n",
    "sample_2 = data.train.images[23].reshape(28,28)\n",
    "sample_label_2 = np.where(data.train.labels[23] == 1)[0][0]\n",
    "\n",
    "print(\"y = {label_index} ({label})\".format(label_index=sample_label_1, label=label_dict[sample_label_1]))\n",
    "plt.imshow(sample_1, cmap='Greys')\n",
    "plt.show()\n",
    "\n",
    "print(\"y = {label_index} ({label})\".format(label_index=sample_label_2, label=label_dict[sample_label_2]))\n",
    "plt.imshow(sample_2, cmap='Greys')\n",
    "plt.show()"
   ]
  },
  {
   "cell_type": "code",
   "execution_count": 8,
   "metadata": {},
   "outputs": [],
   "source": [
    "def cov2d(x_tensor,conv_num_outputs,conv_ksize,conv_strides):\n",
    "    weights=tf.Variable(tf.truncated_normal(shape=[conv_ksize[0],conv_ksize[1],int(x_tensor.shape[3]),conv_num_outputs],mean=0,stddev=0.1,\n",
    "                                            dtype=tf.float32))\n",
    "    biases=tf.Variable(tf.zeros(conv_num_outputs))\n",
    "    layer=tf.nn.conv2d(x_tensor,weights,strides=[1,conv_strides[0],conv_strides[1],\n",
    "    1],padding='SAME')\n",
    "    layer=tf.nn.bias_add(layer,biases)\n",
    "    layer=tf.nn.relu(layer)\n",
    "    return layer\n",
    "\n",
    "def maxpool(x_tensor,pool_ksize, pool_strides):\n",
    "    layer=tf.nn.max_pool(x_tensor,ksize=[1,pool_ksize[0],pool_ksize[1],1],padding='SAME',\n",
    "    strides=[1,pool_strides[0],pool_strides[1],1])\n",
    "    return layer"
   ]
  },
  {
   "cell_type": "code",
   "execution_count": 6,
   "metadata": {
    "collapsed": true,
    "scrolled": true
   },
   "outputs": [],
   "source": [
    "def flatten(x_tensor):\n",
    "\n",
    "    x_tensor_shape=x_tensor.get_shape().as_list()\n",
    "    return tf.reshape(x_tensor,shape=[-1,x_tensor_shape[1]*x_tensor_shape[2]*x_tensor_shape[3]])\n",
    "\n"
   ]
  },
  {
   "cell_type": "code",
   "execution_count": 7,
   "metadata": {
    "collapsed": true
   },
   "outputs": [],
   "source": [
    "def fully_conn(x_tensor, num_outputs):\n",
    "\n",
    "    x_tensor_shape=x_tensor.get_shape().as_list()\n",
    "    weights=tf.Variable(tf.truncated_normal(shape=[x_tensor_shape[1],num_outputs],mean=0,\n",
    "                                            stddev=0.1,dtype=tf.float32))\n",
    "    biases=tf.Variable(tf.zeros(num_outputs))\n",
    "    return tf.nn.relu(tf.nn.bias_add(tf.matmul(x_tensor,weights),biases))\n",
    "\n"
   ]
  },
  {
   "cell_type": "code",
   "execution_count": 8,
   "metadata": {
    "collapsed": true
   },
   "outputs": [],
   "source": [
    "def output(x_tensor, num_outputs):\n",
    "    shape=x_tensor.get_shape().as_list()\n",
    "    weights=tf.Variable(tf.truncated_normal(shape=[shape[1],num_outputs],mean=0,stddev=0.01,dtype=tf.float32))\n",
    "    biases=tf.Variable(tf.zeros(num_outputs))\n",
    "    \n",
    "    return tf.nn.bias_add(tf.matmul(x_tensor,weights),biases)\n",
    "\n"
   ]
  },
  {
   "cell_type": "code",
   "execution_count": 9,
   "metadata": {},
   "outputs": [
    {
     "name": "stdout",
     "output_type": "stream",
     "text": [
      "WARNING:tensorflow:From <ipython-input-9-5901601ae87f>:45: softmax_cross_entropy_with_logits (from tensorflow.python.ops.nn_ops) is deprecated and will be removed in a future version.\n",
      "Instructions for updating:\n",
      "\n",
      "Future major versions of TensorFlow will allow gradients to flow\n",
      "into the labels input on backprop by default.\n",
      "\n",
      "See tf.nn.softmax_cross_entropy_with_logits_v2.\n",
      "\n"
     ]
    }
   ],
   "source": [
    "\n",
    "def conv_net(x, keep_prob):\n",
    "\n",
    "    conv_layer=cov2d(x_tensor=x,conv_num_outputs=64,conv_ksize=(3,3),conv_strides=(1,1))\n",
    "    conv_layer=cov2d(x_tensor=conv_layer,conv_num_outputs=64,conv_ksize=(3,3),conv_strides=(1,1))\n",
    "    conv_layer=maxpool(x_tensor=conv_layer,pool_ksize=(2,2), pool_strides=(2,2))\n",
    "    \n",
    "    conv_layer=cov2d(x_tensor=conv_layer,conv_num_outputs=128,conv_ksize=(3,3),conv_strides=(1,1))\n",
    "    conv_layer=cov2d(x_tensor=conv_layer,conv_num_outputs=128,conv_ksize=(3,3),conv_strides=(1,1))\n",
    "    conv_layer=maxpool(x_tensor=conv_layer,pool_ksize=(2,2), pool_strides=(2,2))\n",
    "\n",
    "    conv_layer=cov2d(x_tensor=conv_layer,conv_num_outputs=256,conv_ksize=(3,3),conv_strides=(1,1))\n",
    "    conv_layer=cov2d(x_tensor=conv_layer,conv_num_outputs=256,conv_ksize=(3,3),conv_strides=(1,1))\n",
    "    conv_layer=cov2d(x_tensor=conv_layer,conv_num_outputs=256,conv_ksize=(3,3),conv_strides=(1,1))\n",
    "    conv_layer=maxpool(x_tensor=conv_layer,pool_ksize=(2,2), pool_strides=(2,2))\n",
    "    \n",
    "    conv_layer=cov2d(x_tensor=conv_layer,conv_num_outputs=512,conv_ksize=(3,3),conv_strides=(1,1))\n",
    "    conv_layer=cov2d(x_tensor=conv_layer,conv_num_outputs=512,conv_ksize=(3,3),conv_strides=(1,1))\n",
    "    conv_layer=cov2d(x_tensor=conv_layer,conv_num_outputs=512,conv_ksize=(3,3),conv_strides=(1,1))\n",
    "    conv_layer=maxpool(x_tensor=conv_layer,pool_ksize=(2,2), pool_strides=(2,2))\n",
    "    \n",
    "    conv_layer_flat=flatten(conv_layer)\n",
    "\n",
    "\n",
    "    fully_con_layer=fully_conn(conv_layer_flat,4096)\n",
    "\n",
    "    fully_con_layer=fully_conn(fully_con_layer,4096)\n",
    "    fully_con_layer=tf.nn.dropout(fully_con_layer,keep_prob=keep_prob)\n",
    "\n",
    "    conv_output=output(fully_con_layer,10)\n",
    "\n",
    "    return conv_output\n",
    "\n",
    "\n",
    "tf.reset_default_graph()\n",
    "\n",
    "\n",
    "x=tf.placeholder(shape=[None,28,28,1],dtype=tf.float32,name='x')\n",
    "y=tf.placeholder(shape=[None,10],dtype=tf.float32,name='y')\n",
    "keep_prob=tf.placeholder(dtype=tf.float32,name='keep_prob')\n",
    "\n",
    "logits = conv_net(x, keep_prob)\n",
    "logits = tf.identity(logits, name='logits')\n",
    "\n",
    "cost = tf.reduce_mean(tf.nn.softmax_cross_entropy_with_logits(logits=logits, labels=y))\n",
    "optimizer = tf.train.AdamOptimizer(learning_rate=0.002).minimize(cost)\n",
    "\n",
    "correct_pred = tf.equal(tf.argmax(logits, 1), tf.argmax(y, 1))\n",
    "accuracy = tf.reduce_mean(tf.cast(correct_pred, tf.float32), name='accuracy')"
   ]
  },
  {
   "cell_type": "code",
   "execution_count": 10,
   "metadata": {
    "collapsed": true
   },
   "outputs": [],
   "source": [
    "def train_neural_network(session, optimizer, keep_probability, feature_batch, label_batch):\n",
    "\n",
    "\n",
    "    session.run(optimizer,feed_dict={x:feature_batch,y:label_batch,keep_prob:keep_probability})\n",
    " "
   ]
  },
  {
   "cell_type": "code",
   "execution_count": 11,
   "metadata": {
    "collapsed": true
   },
   "outputs": [],
   "source": [
    "valid_images=np.reshape(data.test.images,[10000,28,28,1])[:1000]\n",
    "valid_labels=np.reshape(data.test.labels,[10000,10])[:1000]"
   ]
  },
  {
   "cell_type": "code",
   "execution_count": 12,
   "metadata": {
    "collapsed": true
   },
   "outputs": [],
   "source": [
    "def print_stats(session, feature_batch, label_batch, cost, accuracy):\n",
    "\n",
    "\n",
    "    Loss=session.run(cost,feed_dict={x:feature_batch,y:label_batch,keep_prob:1.0})\n",
    "    Accuracy=session.run(accuracy,feed_dict={x:valid_images,y:valid_labels,keep_prob:1.0})\n",
    "    print('Loss: {:>10.4f} Validation Accuracy: {:.6f}'.format(Loss,Accuracy))\n",
    "    \n",
    "    "
   ]
  },
  {
   "cell_type": "code",
   "execution_count": 13,
   "metadata": {
    "collapsed": true
   },
   "outputs": [],
   "source": [
    "\n",
    "epochs = 40\n",
    "batch_size = 256\n",
    "keep_probability = 0.5"
   ]
  },
  {
   "cell_type": "code",
   "execution_count": null,
   "metadata": {
    "scrolled": true
   },
   "outputs": [
    {
     "name": "stdout",
     "output_type": "stream",
     "text": [
      "Epoch  1, Loss:     0.3724 Validation Accuracy: 0.833000\n",
      "Epoch  2, Loss:     0.4008 Validation Accuracy: 0.864000\n",
      "Epoch  3, Loss:     0.3154 Validation Accuracy: 0.859000\n",
      "Epoch  4, Loss:     0.2365 Validation Accuracy: 0.887000\n",
      "Epoch  5, Loss:     0.2282 Validation Accuracy: 0.879000\n",
      "Epoch  6, Loss:     0.2852 Validation Accuracy: 0.886000\n",
      "Epoch  7, Loss:     0.2166 Validation Accuracy: 0.884000\n",
      "Epoch  8, Loss:     0.1955 Validation Accuracy: 0.888000\n",
      "Epoch  9, Loss:     0.1614 Validation Accuracy: 0.882000\n",
      "Epoch 10, Loss:     0.2195 Validation Accuracy: 0.884000\n",
      "Epoch 11, Loss:     0.2158 Validation Accuracy: 0.891000\n",
      "Epoch 12, Loss:     0.2171 Validation Accuracy: 0.865000\n",
      "Epoch 13, Loss:     0.1921 Validation Accuracy: 0.880000\n",
      "Epoch 14, Loss:     0.1283 Validation Accuracy: 0.892000\n",
      "Epoch 15, Loss:     0.1471 Validation Accuracy: 0.893000\n",
      "Epoch 16, Loss:     0.1150 Validation Accuracy: 0.911000\n",
      "Epoch 17, Loss:     0.0927 Validation Accuracy: 0.892000\n",
      "Epoch 18, Loss:     0.1152 Validation Accuracy: 0.900000\n",
      "Epoch 19, Loss:     0.1156 Validation Accuracy: 0.900000\n",
      "Epoch 20, Loss:     0.0869 Validation Accuracy: 0.910000\n",
      "Epoch 21, Loss:     0.1457 Validation Accuracy: 0.892000\n",
      "Epoch 22, Loss:     0.1602 Validation Accuracy: 0.898000\n",
      "Epoch 23, Loss:     0.1305 Validation Accuracy: 0.914000\n",
      "Epoch 24, Loss:     0.0862 Validation Accuracy: 0.914000\n",
      "Epoch 25, Loss:     0.0877 Validation Accuracy: 0.893000\n",
      "Epoch 26, Loss:     0.1271 Validation Accuracy: 0.887000\n",
      "Epoch 27, Loss:     0.0599 Validation Accuracy: 0.904000\n",
      "Epoch 28, Loss:     0.1031 Validation Accuracy: 0.914000\n",
      "Epoch 29, Loss:     0.1015 Validation Accuracy: 0.913000\n",
      "Epoch 30, Loss:     0.0828 Validation Accuracy: 0.915000\n",
      "Epoch 31, Loss:     0.0889 Validation Accuracy: 0.900000\n",
      "Epoch 32, Loss:     0.0612 Validation Accuracy: 0.906000\n",
      "Epoch 33, Loss:     0.1042 Validation Accuracy: 0.903000\n",
      "Epoch 34, Loss:     0.0870 Validation Accuracy: 0.901000\n",
      "Epoch 35, Loss:     0.1013 Validation Accuracy: 0.907000\n",
      "Epoch 36, Loss:     0.1199 Validation Accuracy: 0.915000\n",
      "Epoch 37, Loss:     0.0746 Validation Accuracy: 0.906000\n",
      "Epoch 38, Loss:     0.1041 Validation Accuracy: 0.907000\n",
      "Epoch 39, Loss:     0.0798 Validation Accuracy: 0.890000\n",
      "Epoch 40, Loss:     0.0811 Validation Accuracy: 0.914000\n"
     ]
    }
   ],
   "source": [
    "model_path= './fashion_mnist_classification'\n",
    "with tf.Session() as sess:\n",
    "\n",
    "    sess.run(tf.global_variables_initializer())\n",
    "\n",
    "    for epoch in range(epochs):\n",
    "        num_minibatches = int(55000 / batch_size)\n",
    "        for i in range(num_minibatches):\n",
    "\n",
    "            batch_X, batch_Y = data.train.next_batch(batch_size)\n",
    "\n",
    "            train_neural_network(sess, optimizer, keep_probability, np.reshape(batch_X,[batch_size,28,28,1]), \n",
    "                                 batch_Y)\n",
    "        print('Epoch {:>2}, '.format(epoch + 1), end='')\n",
    "        print_stats(sess,np.reshape(batch_X,[batch_size,28,28,1]), batch_Y, cost, accuracy)\n",
    "    saver = tf.train.Saver()\n",
    "    save_path = saver.save(sess, model_path)\n",
    "\n",
    "\n"
   ]
  },
  {
   "cell_type": "code",
   "execution_count": 14,
   "metadata": {
    "scrolled": true
   },
   "outputs": [
    {
     "name": "stdout",
     "output_type": "stream",
     "text": [
      "INFO:tensorflow:Restoring parameters from ./fashion_mnist_classification\n",
      "Training Accuracy: 0.9533454483205622\n",
      "\n",
      "Testing Accuracy: 0.9047999978065491\n",
      "\n"
     ]
    }
   ],
   "source": [
    "loaded_graph = tf.Graph()\n",
    "model_path= './fashion_mnist_classification'\n",
    "with tf.Session(graph=loaded_graph) as sess:\n",
    "\n",
    "    loader = tf.train.import_meta_graph(model_path + '.meta')\n",
    "    loader.restore(sess, model_path)\n",
    "    loaded_x = loaded_graph.get_tensor_by_name('x:0')\n",
    "    loaded_y = loaded_graph.get_tensor_by_name('y:0')\n",
    "    loaded_keep_prob = loaded_graph.get_tensor_by_name('keep_prob:0')\n",
    "    loaded_logits = loaded_graph.get_tensor_by_name('logits:0')\n",
    "    loaded_acc = loaded_graph.get_tensor_by_name('accuracy:0')\n",
    "\n",
    "    Train_batch_acc_total = 0\n",
    "    Test_batch_acc_total=0\n",
    "\n",
    "    for i in range(55):\n",
    "        batch_X, batch_Y = data.train.next_batch(1000)\n",
    "        Train_batch_acc_total += sess.run(loaded_acc,feed_dict={loaded_x: np.reshape(batch_X,[1000,28,28,1]), loaded_y: batch_Y, loaded_keep_prob: 1.0})\n",
    "\n",
    "    print('Training Accuracy: {}\\n'.format(Train_batch_acc_total/55))\n",
    "    \n",
    "    for i in range(10):\n",
    "        batch_X, batch_Y = data.test.next_batch(1000)\n",
    "        Test_batch_acc_total += sess.run(loaded_acc,feed_dict={loaded_x: np.reshape(batch_X,[1000,28,28,1]), loaded_y: batch_Y, loaded_keep_prob: 1.0})\n",
    "\n",
    "    print('Testing Accuracy: {}\\n'.format(Test_batch_acc_total/10))\n",
    "    \n"
   ]
  },
  {
   "cell_type": "code",
   "execution_count": null,
   "metadata": {
    "collapsed": true
   },
   "outputs": [],
   "source": []
  }
 ],
 "metadata": {
  "kernelspec": {
   "display_name": "Python 3",
   "language": "python",
   "name": "python3"
  },
  "language_info": {
   "codemirror_mode": {
    "name": "ipython",
    "version": 3
   },
   "file_extension": ".py",
   "mimetype": "text/x-python",
   "name": "python",
   "nbconvert_exporter": "python",
   "pygments_lexer": "ipython3",
   "version": "3.5.4"
  },
  "widgets": {
   "state": {},
   "version": "1.1.2"
  }
 },
 "nbformat": 4,
 "nbformat_minor": 1
}
